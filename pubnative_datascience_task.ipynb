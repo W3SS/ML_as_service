{
 "cells": [
  {
   "cell_type": "markdown",
   "metadata": {},
   "source": [
    "### Binary Classification problem"
   ]
  },
  {
   "cell_type": "code",
   "execution_count": 2,
   "metadata": {
    "collapsed": false
   },
   "outputs": [],
   "source": [
    "%matplotlib inline\n",
    "import pandas as pd\n",
    "import numpy as np\n",
    "import matplotlib.pyplot as plt\n",
    "import seaborn as sns\n",
    "import warnings\n",
    "warnings.filterwarnings('ignore')\n",
    "color = sns.color_palette()\n",
    "\n",
    "from sklearn.preprocessing import StandardScaler\n",
    "from sklearn.linear_model import LogisticRegression\n",
    "\n",
    "\n",
    "pd.set_option(\"display.max_columns\", 500)"
   ]
  },
  {
   "cell_type": "code",
   "execution_count": 3,
   "metadata": {
    "collapsed": false
   },
   "outputs": [],
   "source": [
    "train_df = pd.read_csv('D:/PROJECTS/pubnative/training.csv', sep = ';')\n",
    "test_df = pd.read_csv('D:/PROJECTS/pubnative/validation.csv', sep = ';')"
   ]
  },
  {
   "cell_type": "code",
   "execution_count": 4,
   "metadata": {
    "collapsed": false
   },
   "outputs": [
    {
     "name": "stdout",
     "output_type": "stream",
     "text": [
      "\n",
      "Train data shape: (3700, 19)\n",
      "Validation data shape: (200, 19)\n"
     ]
    },
    {
     "data": {
      "text/html": [
       "<div>\n",
       "<table border=\"1\" class=\"dataframe\">\n",
       "  <thead>\n",
       "    <tr style=\"text-align: right;\">\n",
       "      <th></th>\n",
       "      <th>v1</th>\n",
       "      <th>v2</th>\n",
       "      <th>v3</th>\n",
       "      <th>v4</th>\n",
       "      <th>v5</th>\n",
       "      <th>v6</th>\n",
       "      <th>v7</th>\n",
       "      <th>v8</th>\n",
       "      <th>v9</th>\n",
       "      <th>v10</th>\n",
       "      <th>v11</th>\n",
       "      <th>v12</th>\n",
       "      <th>v13</th>\n",
       "      <th>v14</th>\n",
       "      <th>v15</th>\n",
       "      <th>v17</th>\n",
       "      <th>v18</th>\n",
       "      <th>v19</th>\n",
       "      <th>classLabel</th>\n",
       "    </tr>\n",
       "  </thead>\n",
       "  <tbody>\n",
       "    <tr>\n",
       "      <th>0</th>\n",
       "      <td>a</td>\n",
       "      <td>17,92</td>\n",
       "      <td>5,4e-05</td>\n",
       "      <td>u</td>\n",
       "      <td>g</td>\n",
       "      <td>c</td>\n",
       "      <td>v</td>\n",
       "      <td>1,75</td>\n",
       "      <td>f</td>\n",
       "      <td>t</td>\n",
       "      <td>1</td>\n",
       "      <td>t</td>\n",
       "      <td>g</td>\n",
       "      <td>80.0</td>\n",
       "      <td>5</td>\n",
       "      <td>800000.0</td>\n",
       "      <td>t</td>\n",
       "      <td>0</td>\n",
       "      <td>no.</td>\n",
       "    </tr>\n",
       "    <tr>\n",
       "      <th>1</th>\n",
       "      <td>b</td>\n",
       "      <td>16,92</td>\n",
       "      <td>3,35e-05</td>\n",
       "      <td>y</td>\n",
       "      <td>p</td>\n",
       "      <td>k</td>\n",
       "      <td>v</td>\n",
       "      <td>0,29</td>\n",
       "      <td>f</td>\n",
       "      <td>f</td>\n",
       "      <td>0</td>\n",
       "      <td>f</td>\n",
       "      <td>s</td>\n",
       "      <td>200.0</td>\n",
       "      <td>0</td>\n",
       "      <td>2000000.0</td>\n",
       "      <td>NaN</td>\n",
       "      <td>0</td>\n",
       "      <td>no.</td>\n",
       "    </tr>\n",
       "    <tr>\n",
       "      <th>2</th>\n",
       "      <td>b</td>\n",
       "      <td>31,25</td>\n",
       "      <td>0,0001125</td>\n",
       "      <td>u</td>\n",
       "      <td>g</td>\n",
       "      <td>ff</td>\n",
       "      <td>ff</td>\n",
       "      <td>0</td>\n",
       "      <td>f</td>\n",
       "      <td>t</td>\n",
       "      <td>1</td>\n",
       "      <td>f</td>\n",
       "      <td>g</td>\n",
       "      <td>96.0</td>\n",
       "      <td>19</td>\n",
       "      <td>960000.0</td>\n",
       "      <td>t</td>\n",
       "      <td>0</td>\n",
       "      <td>no.</td>\n",
       "    </tr>\n",
       "    <tr>\n",
       "      <th>3</th>\n",
       "      <td>a</td>\n",
       "      <td>48,17</td>\n",
       "      <td>0,0001335</td>\n",
       "      <td>u</td>\n",
       "      <td>g</td>\n",
       "      <td>i</td>\n",
       "      <td>o</td>\n",
       "      <td>0,335</td>\n",
       "      <td>f</td>\n",
       "      <td>f</td>\n",
       "      <td>0</td>\n",
       "      <td>f</td>\n",
       "      <td>g</td>\n",
       "      <td>0.0</td>\n",
       "      <td>120</td>\n",
       "      <td>0.0</td>\n",
       "      <td>NaN</td>\n",
       "      <td>0</td>\n",
       "      <td>no.</td>\n",
       "    </tr>\n",
       "    <tr>\n",
       "      <th>4</th>\n",
       "      <td>b</td>\n",
       "      <td>32,33</td>\n",
       "      <td>0,00035</td>\n",
       "      <td>u</td>\n",
       "      <td>g</td>\n",
       "      <td>k</td>\n",
       "      <td>v</td>\n",
       "      <td>0,5</td>\n",
       "      <td>f</td>\n",
       "      <td>f</td>\n",
       "      <td>0</td>\n",
       "      <td>t</td>\n",
       "      <td>g</td>\n",
       "      <td>232.0</td>\n",
       "      <td>0</td>\n",
       "      <td>2320000.0</td>\n",
       "      <td>f</td>\n",
       "      <td>0</td>\n",
       "      <td>no.</td>\n",
       "    </tr>\n",
       "  </tbody>\n",
       "</table>\n",
       "</div>"
      ],
      "text/plain": [
       "  v1     v2         v3 v4 v5  v6  v7     v8 v9 v10  v11 v12 v13    v14  v15  \\\n",
       "0  a  17,92    5,4e-05  u  g   c   v   1,75  f   t    1   t   g   80.0    5   \n",
       "1  b  16,92   3,35e-05  y  p   k   v   0,29  f   f    0   f   s  200.0    0   \n",
       "2  b  31,25  0,0001125  u  g  ff  ff      0  f   t    1   f   g   96.0   19   \n",
       "3  a  48,17  0,0001335  u  g   i   o  0,335  f   f    0   f   g    0.0  120   \n",
       "4  b  32,33    0,00035  u  g   k   v    0,5  f   f    0   t   g  232.0    0   \n",
       "\n",
       "         v17  v18  v19 classLabel  \n",
       "0   800000.0    t    0        no.  \n",
       "1  2000000.0  NaN    0        no.  \n",
       "2   960000.0    t    0        no.  \n",
       "3        0.0  NaN    0        no.  \n",
       "4  2320000.0    f    0        no.  "
      ]
     },
     "execution_count": 4,
     "metadata": {},
     "output_type": "execute_result"
    }
   ],
   "source": [
    "print('\\nTrain data shape:',train_df.shape)\n",
    "print('Validation data shape:',test_df.shape)\n",
    "\n",
    "train_df.head()"
   ]
  },
  {
   "cell_type": "code",
   "execution_count": 5,
   "metadata": {
    "collapsed": false
   },
   "outputs": [],
   "source": [
    "train_df['is_test'] = 0\n",
    "test_df['is_test'] = 1\n",
    "\n",
    "\n",
    "base_df = pd.concat([train_df,test_df], axis = 0)\n",
    "base_df['classLabel'] = base_df['classLabel'].apply(lambda x: 1 if x == 'no.' else 0)\n",
    "#base_df['class'].value_counts()"
   ]
  },
  {
   "cell_type": "markdown",
   "metadata": {},
   "source": [
    "### 1. Missing Value Check\n",
    "* As a first step, let's look for missing values in the columns of dataframe\n",
    "* Drop columns that have more number of missing values\n",
    "* Dropping records with missing values, gives with a dataframe of (3522)"
   ]
  },
  {
   "cell_type": "code",
   "execution_count": 6,
   "metadata": {
    "collapsed": false
   },
   "outputs": [
    {
     "name": "stdout",
     "output_type": "stream",
     "text": [
      "v1              42\n",
      "v2              42\n",
      "v3               0\n",
      "v4              66\n",
      "v5              66\n",
      "v6              69\n",
      "v7              69\n",
      "v8               0\n",
      "v9               0\n",
      "v10              0\n",
      "v11              0\n",
      "v12              0\n",
      "v13              0\n",
      "v14            103\n",
      "v15              0\n",
      "v17            103\n",
      "v18           2256\n",
      "v19              0\n",
      "classLabel       0\n",
      "is_test          0\n",
      "dtype: int64\n",
      "0    3517\n",
      "1     383\n",
      "Name: classLabel, dtype: int64\n",
      "(3713, 19)\n"
     ]
    },
    {
     "data": {
      "text/html": [
       "<div>\n",
       "<table border=\"1\" class=\"dataframe\">\n",
       "  <thead>\n",
       "    <tr style=\"text-align: right;\">\n",
       "      <th></th>\n",
       "      <th>v1</th>\n",
       "      <th>v2</th>\n",
       "      <th>v3</th>\n",
       "      <th>v4</th>\n",
       "      <th>v5</th>\n",
       "      <th>v6</th>\n",
       "      <th>v7</th>\n",
       "      <th>v8</th>\n",
       "      <th>v9</th>\n",
       "      <th>v10</th>\n",
       "      <th>v11</th>\n",
       "      <th>v12</th>\n",
       "      <th>v13</th>\n",
       "      <th>v14</th>\n",
       "      <th>v15</th>\n",
       "      <th>v17</th>\n",
       "      <th>v19</th>\n",
       "      <th>classLabel</th>\n",
       "      <th>is_test</th>\n",
       "    </tr>\n",
       "  </thead>\n",
       "  <tbody>\n",
       "    <tr>\n",
       "      <th>0</th>\n",
       "      <td>a</td>\n",
       "      <td>17,92</td>\n",
       "      <td>5,4e-05</td>\n",
       "      <td>u</td>\n",
       "      <td>g</td>\n",
       "      <td>c</td>\n",
       "      <td>v</td>\n",
       "      <td>1,75</td>\n",
       "      <td>f</td>\n",
       "      <td>t</td>\n",
       "      <td>1</td>\n",
       "      <td>t</td>\n",
       "      <td>g</td>\n",
       "      <td>80.0</td>\n",
       "      <td>5</td>\n",
       "      <td>800000.0</td>\n",
       "      <td>0</td>\n",
       "      <td>1</td>\n",
       "      <td>0</td>\n",
       "    </tr>\n",
       "    <tr>\n",
       "      <th>1</th>\n",
       "      <td>b</td>\n",
       "      <td>16,92</td>\n",
       "      <td>3,35e-05</td>\n",
       "      <td>y</td>\n",
       "      <td>p</td>\n",
       "      <td>k</td>\n",
       "      <td>v</td>\n",
       "      <td>0,29</td>\n",
       "      <td>f</td>\n",
       "      <td>f</td>\n",
       "      <td>0</td>\n",
       "      <td>f</td>\n",
       "      <td>s</td>\n",
       "      <td>200.0</td>\n",
       "      <td>0</td>\n",
       "      <td>2000000.0</td>\n",
       "      <td>0</td>\n",
       "      <td>1</td>\n",
       "      <td>0</td>\n",
       "    </tr>\n",
       "    <tr>\n",
       "      <th>2</th>\n",
       "      <td>b</td>\n",
       "      <td>31,25</td>\n",
       "      <td>0,0001125</td>\n",
       "      <td>u</td>\n",
       "      <td>g</td>\n",
       "      <td>ff</td>\n",
       "      <td>ff</td>\n",
       "      <td>0</td>\n",
       "      <td>f</td>\n",
       "      <td>t</td>\n",
       "      <td>1</td>\n",
       "      <td>f</td>\n",
       "      <td>g</td>\n",
       "      <td>96.0</td>\n",
       "      <td>19</td>\n",
       "      <td>960000.0</td>\n",
       "      <td>0</td>\n",
       "      <td>1</td>\n",
       "      <td>0</td>\n",
       "    </tr>\n",
       "    <tr>\n",
       "      <th>3</th>\n",
       "      <td>a</td>\n",
       "      <td>48,17</td>\n",
       "      <td>0,0001335</td>\n",
       "      <td>u</td>\n",
       "      <td>g</td>\n",
       "      <td>i</td>\n",
       "      <td>o</td>\n",
       "      <td>0,335</td>\n",
       "      <td>f</td>\n",
       "      <td>f</td>\n",
       "      <td>0</td>\n",
       "      <td>f</td>\n",
       "      <td>g</td>\n",
       "      <td>0.0</td>\n",
       "      <td>120</td>\n",
       "      <td>0.0</td>\n",
       "      <td>0</td>\n",
       "      <td>1</td>\n",
       "      <td>0</td>\n",
       "    </tr>\n",
       "    <tr>\n",
       "      <th>4</th>\n",
       "      <td>b</td>\n",
       "      <td>32,33</td>\n",
       "      <td>0,00035</td>\n",
       "      <td>u</td>\n",
       "      <td>g</td>\n",
       "      <td>k</td>\n",
       "      <td>v</td>\n",
       "      <td>0,5</td>\n",
       "      <td>f</td>\n",
       "      <td>f</td>\n",
       "      <td>0</td>\n",
       "      <td>t</td>\n",
       "      <td>g</td>\n",
       "      <td>232.0</td>\n",
       "      <td>0</td>\n",
       "      <td>2320000.0</td>\n",
       "      <td>0</td>\n",
       "      <td>1</td>\n",
       "      <td>0</td>\n",
       "    </tr>\n",
       "  </tbody>\n",
       "</table>\n",
       "</div>"
      ],
      "text/plain": [
       "  v1     v2         v3 v4 v5  v6  v7     v8 v9 v10  v11 v12 v13    v14  v15  \\\n",
       "0  a  17,92    5,4e-05  u  g   c   v   1,75  f   t    1   t   g   80.0    5   \n",
       "1  b  16,92   3,35e-05  y  p   k   v   0,29  f   f    0   f   s  200.0    0   \n",
       "2  b  31,25  0,0001125  u  g  ff  ff      0  f   t    1   f   g   96.0   19   \n",
       "3  a  48,17  0,0001335  u  g   i   o  0,335  f   f    0   f   g    0.0  120   \n",
       "4  b  32,33    0,00035  u  g   k   v    0,5  f   f    0   t   g  232.0    0   \n",
       "\n",
       "         v17  v19  classLabel  is_test  \n",
       "0   800000.0    0           1        0  \n",
       "1  2000000.0    0           1        0  \n",
       "2   960000.0    0           1        0  \n",
       "3        0.0    0           1        0  \n",
       "4  2320000.0    0           1        0  "
      ]
     },
     "execution_count": 6,
     "metadata": {},
     "output_type": "execute_result"
    }
   ],
   "source": [
    "print(base_df.isnull().sum())\n",
    "base_df.drop('v18', axis  = 1, inplace = 1)\n",
    "print(base_df['classLabel'].value_counts())\n",
    "print(base_df.dropna().shape)\n",
    "base_df.dropna(inplace = 1)\n",
    "#print(base_df.isnull().sum())\n",
    "base_df.head()\n"
   ]
  },
  {
   "cell_type": "markdown",
   "metadata": {},
   "source": [
    "* 'v18' column has nulls for  2145 records, hence we can drop this column.\n",
    "* Other Columns have very few nulls. Hence ,we can drop those observations from our analysis\n",
    "* training_set reduces to 3522 rows, after dropping nulls."
   ]
  },
  {
   "cell_type": "markdown",
   "metadata": {},
   "source": [
    "### Step 2: Data Preprocessing\n",
    "* Columns v2, v3, v8 have values separated by comma.Split the values and have it as a separate column. This gives us with three more additional features"
   ]
  },
  {
   "cell_type": "code",
   "execution_count": 7,
   "metadata": {
    "collapsed": false
   },
   "outputs": [
    {
     "name": "stdout",
     "output_type": "stream",
     "text": [
      "  v1     v2         v3 v4 v5  v6  v7     v8 v9 v10  v11 v12 v13    v14  v15  \\\n",
      "0  a  17,92    5,4e-05  u  g   c   v   1,75  f   t    1   t   g   80.0    5   \n",
      "1  b  16,92   3,35e-05  y  p   k   v   0,29  f   f    0   f   s  200.0    0   \n",
      "2  b  31,25  0,0001125  u  g  ff  ff      0  f   t    1   f   g   96.0   19   \n",
      "3  a  48,17  0,0001335  u  g   i   o  0,335  f   f    0   f   g    0.0  120   \n",
      "4  b  32,33    0,00035  u  g   k   v    0,5  f   f    0   t   g  232.0    0   \n",
      "\n",
      "         v17  v19  classLabel  is_test   0   1  0        1  0     1  \n",
      "0   800000.0    0           1        0  17  92  5    4e-05  1    75  \n",
      "1  2000000.0    0           1        0  16  92  3   35e-05  0    29  \n",
      "2   960000.0    0           1        0  31  25  0  0001125  0  None  \n",
      "3        0.0    0           1        0  48  17  0  0001335  0   335  \n",
      "4  2320000.0    0           1        0  32  33  0    00035  0     5  \n"
     ]
    }
   ],
   "source": [
    "train_df_1 = pd.concat([base_df\n",
    "                  ,base_df['v2'].str.split(',', expand=True)\n",
    "                  ,base_df['v3'].str.split(',', expand=True)\n",
    "                  ,base_df['v8'].str.split(',', expand=True)],axis=1)\n",
    "print(train_df_1.head())\n",
    "train_df_1.drop(['v2','v3','v8'], axis = 1, inplace = 1)\n",
    "train_df_1.columns = ['v1', 'v4','v5', 'v6', 'v7','v9', 'v10', 'v11'\n",
    "                      , 'v12', 'v13', 'v14', 'v15', 'v17', 'v19'\n",
    "                      , 'classLabel','is_test', 'v21','v22', 'v31', 'v32', 'v81','v82']\n",
    "#train_df_1[['v21','v22','v31','v32','v81','v82']].replace(' None ','0',inplace =True)\n",
    "#print(train_df_1.head())\n",
    "train_df_1[['v21','v22','v31','v32','v81','v82']] = train_df_1[['v21','v22','v31','v32','v81','v82']].astype(float, errors = 'coerce')\n",
    "train_df_1[['v22','v31','v32','v81','v82']] = train_df_1[['v22','v31','v32','v81','v82']].apply(lambda x: x.fillna(0),axis = 1)"
   ]
  },
  {
   "cell_type": "markdown",
   "metadata": {},
   "source": [
    "### Step 3: Descriptive Statistics\n",
    "Let's look at some descriptive statistics of numeric columns."
   ]
  },
  {
   "cell_type": "code",
   "execution_count": 8,
   "metadata": {
    "collapsed": false
   },
   "outputs": [
    {
     "data": {
      "text/html": [
       "<div>\n",
       "<table border=\"1\" class=\"dataframe\">\n",
       "  <thead>\n",
       "    <tr style=\"text-align: right;\">\n",
       "      <th></th>\n",
       "      <th>v1</th>\n",
       "      <th>v4</th>\n",
       "      <th>v5</th>\n",
       "      <th>v6</th>\n",
       "      <th>v7</th>\n",
       "      <th>v9</th>\n",
       "      <th>v10</th>\n",
       "      <th>v11</th>\n",
       "      <th>v12</th>\n",
       "      <th>v13</th>\n",
       "      <th>v14</th>\n",
       "      <th>v15</th>\n",
       "      <th>v17</th>\n",
       "      <th>v19</th>\n",
       "      <th>classLabel</th>\n",
       "      <th>is_test</th>\n",
       "      <th>v21</th>\n",
       "      <th>v22</th>\n",
       "      <th>v31</th>\n",
       "      <th>v32</th>\n",
       "      <th>v81</th>\n",
       "      <th>v82</th>\n",
       "    </tr>\n",
       "  </thead>\n",
       "  <tbody>\n",
       "    <tr>\n",
       "      <th>0</th>\n",
       "      <td>a</td>\n",
       "      <td>u</td>\n",
       "      <td>g</td>\n",
       "      <td>c</td>\n",
       "      <td>v</td>\n",
       "      <td>f</td>\n",
       "      <td>t</td>\n",
       "      <td>1</td>\n",
       "      <td>t</td>\n",
       "      <td>g</td>\n",
       "      <td>80.0</td>\n",
       "      <td>5</td>\n",
       "      <td>800000.0</td>\n",
       "      <td>0</td>\n",
       "      <td>1</td>\n",
       "      <td>0</td>\n",
       "      <td>17.0</td>\n",
       "      <td>92.0</td>\n",
       "      <td>5.0</td>\n",
       "      <td>0.00004</td>\n",
       "      <td>1.0</td>\n",
       "      <td>75.0</td>\n",
       "    </tr>\n",
       "    <tr>\n",
       "      <th>1</th>\n",
       "      <td>b</td>\n",
       "      <td>y</td>\n",
       "      <td>p</td>\n",
       "      <td>k</td>\n",
       "      <td>v</td>\n",
       "      <td>f</td>\n",
       "      <td>f</td>\n",
       "      <td>0</td>\n",
       "      <td>f</td>\n",
       "      <td>s</td>\n",
       "      <td>200.0</td>\n",
       "      <td>0</td>\n",
       "      <td>2000000.0</td>\n",
       "      <td>0</td>\n",
       "      <td>1</td>\n",
       "      <td>0</td>\n",
       "      <td>16.0</td>\n",
       "      <td>92.0</td>\n",
       "      <td>3.0</td>\n",
       "      <td>0.00035</td>\n",
       "      <td>0.0</td>\n",
       "      <td>29.0</td>\n",
       "    </tr>\n",
       "    <tr>\n",
       "      <th>2</th>\n",
       "      <td>b</td>\n",
       "      <td>u</td>\n",
       "      <td>g</td>\n",
       "      <td>ff</td>\n",
       "      <td>ff</td>\n",
       "      <td>f</td>\n",
       "      <td>t</td>\n",
       "      <td>1</td>\n",
       "      <td>f</td>\n",
       "      <td>g</td>\n",
       "      <td>96.0</td>\n",
       "      <td>19</td>\n",
       "      <td>960000.0</td>\n",
       "      <td>0</td>\n",
       "      <td>1</td>\n",
       "      <td>0</td>\n",
       "      <td>31.0</td>\n",
       "      <td>25.0</td>\n",
       "      <td>0.0</td>\n",
       "      <td>1125.00000</td>\n",
       "      <td>0.0</td>\n",
       "      <td>0.0</td>\n",
       "    </tr>\n",
       "    <tr>\n",
       "      <th>3</th>\n",
       "      <td>a</td>\n",
       "      <td>u</td>\n",
       "      <td>g</td>\n",
       "      <td>i</td>\n",
       "      <td>o</td>\n",
       "      <td>f</td>\n",
       "      <td>f</td>\n",
       "      <td>0</td>\n",
       "      <td>f</td>\n",
       "      <td>g</td>\n",
       "      <td>0.0</td>\n",
       "      <td>120</td>\n",
       "      <td>0.0</td>\n",
       "      <td>0</td>\n",
       "      <td>1</td>\n",
       "      <td>0</td>\n",
       "      <td>48.0</td>\n",
       "      <td>17.0</td>\n",
       "      <td>0.0</td>\n",
       "      <td>1335.00000</td>\n",
       "      <td>0.0</td>\n",
       "      <td>335.0</td>\n",
       "    </tr>\n",
       "    <tr>\n",
       "      <th>4</th>\n",
       "      <td>b</td>\n",
       "      <td>u</td>\n",
       "      <td>g</td>\n",
       "      <td>k</td>\n",
       "      <td>v</td>\n",
       "      <td>f</td>\n",
       "      <td>f</td>\n",
       "      <td>0</td>\n",
       "      <td>t</td>\n",
       "      <td>g</td>\n",
       "      <td>232.0</td>\n",
       "      <td>0</td>\n",
       "      <td>2320000.0</td>\n",
       "      <td>0</td>\n",
       "      <td>1</td>\n",
       "      <td>0</td>\n",
       "      <td>32.0</td>\n",
       "      <td>33.0</td>\n",
       "      <td>0.0</td>\n",
       "      <td>35.00000</td>\n",
       "      <td>0.0</td>\n",
       "      <td>5.0</td>\n",
       "    </tr>\n",
       "  </tbody>\n",
       "</table>\n",
       "</div>"
      ],
      "text/plain": [
       "  v1 v4 v5  v6  v7 v9 v10  v11 v12 v13    v14  v15        v17  v19  \\\n",
       "0  a  u  g   c   v  f   t    1   t   g   80.0    5   800000.0    0   \n",
       "1  b  y  p   k   v  f   f    0   f   s  200.0    0  2000000.0    0   \n",
       "2  b  u  g  ff  ff  f   t    1   f   g   96.0   19   960000.0    0   \n",
       "3  a  u  g   i   o  f   f    0   f   g    0.0  120        0.0    0   \n",
       "4  b  u  g   k   v  f   f    0   t   g  232.0    0  2320000.0    0   \n",
       "\n",
       "   classLabel  is_test   v21   v22  v31         v32  v81    v82  \n",
       "0           1        0  17.0  92.0  5.0     0.00004  1.0   75.0  \n",
       "1           1        0  16.0  92.0  3.0     0.00035  0.0   29.0  \n",
       "2           1        0  31.0  25.0  0.0  1125.00000  0.0    0.0  \n",
       "3           1        0  48.0  17.0  0.0  1335.00000  0.0  335.0  \n",
       "4           1        0  32.0  33.0  0.0    35.00000  0.0    5.0  "
      ]
     },
     "execution_count": 8,
     "metadata": {},
     "output_type": "execute_result"
    }
   ],
   "source": [
    "#print(train_df_1.shape)\n",
    "train_df_1.head()\n",
    "#train_df_1.describe()"
   ]
  },
  {
   "cell_type": "markdown",
   "metadata": {},
   "source": [
    "### Step 4: Exploratory Analysis"
   ]
  },
  {
   "cell_type": "code",
   "execution_count": 237,
   "metadata": {
    "collapsed": false
   },
   "outputs": [],
   "source": [
    "# Common functions used for plotting\n",
    "def make_hist(var,bin_value):\n",
    "    \n",
    "    plt.hist(train_df_1[train_df_1['classLabel']=='yes.'][var],bins = bin_value, alpha=0.5, label='Yes')\n",
    "    plt.hist(train_df_1[train_df_1['classLabel']=='no.'][var],bins = bin_value, alpha=0.5, label='No')\n",
    "    plt.title('Histogram of %s by class' %var)\n",
    "    plt.xlabel('Variable %s' %var)\n",
    "    plt.ylabel('Frequency')\n",
    "    plt.legend(loc='upper right')\n",
    "    plt.show()"
   ]
  },
  {
   "cell_type": "markdown",
   "metadata": {},
   "source": [
    "#### Step 4.1 : Variable v21- first part of the variable V2, separated by comma"
   ]
  },
  {
   "cell_type": "code",
   "execution_count": 235,
   "metadata": {
    "collapsed": true
   },
   "outputs": [
    {
     "data": {
      "text/plain": [
       "<matplotlib.axes._subplots.AxesSubplot at 0x220ff67a080>"
      ]
     },
     "execution_count": 235,
     "metadata": {},
     "output_type": "execute_result"
    },
    {
     "data": {
      "image/png": "[encoded data removed]",
      "text/plain": [
       "<matplotlib.figure.Figure at 0x22081a56e48>"
      ]
     },
     "metadata": {},
     "output_type": "display_data"
    }
   ],
   "source": [
    "#fig, (ax1, ax2) = plt.subplots(ncols=2, sharey=True,figsize=(20, 5))\n",
    "sns.distplot(train_df_1.v21)\n"
   ]
  },
  {
   "cell_type": "code",
   "execution_count": 238,
   "metadata": {
    "collapsed": true
   },
   "outputs": [
    {
     "data": {
      "image/png": "[encoded data removed]",
      "text/plain": [
       "<matplotlib.figure.Figure at 0x220ff6cb860>"
      ]
     },
     "metadata": {},
     "output_type": "display_data"
    }
   ],
   "source": [
    "make_hist('v21',25)\n"
   ]
  },
  {
   "cell_type": "markdown",
   "metadata": {},
   "source": [
    "* The distribution of variable \"v21\" is right skewed. Hence this variable needs transformation before fitting with any linear models."
   ]
  },
  {
   "cell_type": "markdown",
   "metadata": {},
   "source": [
    "#### Step 4.2 variable v22:"
   ]
  },
  {
   "cell_type": "code",
   "execution_count": 264,
   "metadata": {
    "collapsed": false
   },
   "outputs": [
    {
     "data": {
      "image/png": "[encoded data removed]",
      "text/plain": [
       "<matplotlib.figure.Figure at 0x22081ec5390>"
      ]
     },
     "metadata": {},
     "output_type": "display_data"
    }
   ],
   "source": [
    "sns.distplot(train_df_1.v22);"
   ]
  },
  {
   "cell_type": "code",
   "execution_count": 240,
   "metadata": {
    "collapsed": true
   },
   "outputs": [
    {
     "data": {
      "image/png": "[encoded data removed]",
      "text/plain": [
       "<matplotlib.figure.Figure at 0x22081f93518>"
      ]
     },
     "metadata": {},
     "output_type": "display_data"
    }
   ],
   "source": [
    "make_hist('v22',10)"
   ]
  },
  {
   "cell_type": "markdown",
   "metadata": {},
   "source": [
    "* the Distribution of variable 'v22' is 'Bimodal', indiacting there are two separate groups involved.\n",
    "* A flag variable should be created to differentiate between the two groups by the model."
   ]
  },
  {
   "cell_type": "markdown",
   "metadata": {},
   "source": [
    "#### Step 4.3 : Variable v31:"
   ]
  },
  {
   "cell_type": "code",
   "execution_count": 241,
   "metadata": {
    "collapsed": true
   },
   "outputs": [
    {
     "data": {
      "image/png": "[encoded data removed]",
      "text/plain": [
       "<matplotlib.figure.Figure at 0x22081a73400>"
      ]
     },
     "metadata": {},
     "output_type": "display_data"
    }
   ],
   "source": [
    "sns.distplot(train_df_1.v31); # More number of 0 values"
   ]
  },
  {
   "cell_type": "code",
   "execution_count": 242,
   "metadata": {
    "collapsed": true
   },
   "outputs": [
    {
     "data": {
      "image/png": "[encoded data removed]",
      "text/plain": [
       "<matplotlib.figure.Figure at 0x22081b39390>"
      ]
     },
     "metadata": {},
     "output_type": "display_data"
    }
   ],
   "source": [
    "sns.distplot(train_df_1[train_df_1.v31!=0]['v31']); # after excluding 0"
   ]
  },
  {
   "cell_type": "code",
   "execution_count": 243,
   "metadata": {
    "collapsed": true
   },
   "outputs": [
    {
     "data": {
      "image/png": "[encoded data removed]",
      "text/plain": [
       "<matplotlib.figure.Figure at 0x220ff27bcc0>"
      ]
     },
     "metadata": {},
     "output_type": "display_data"
    }
   ],
   "source": [
    "sns.countplot(train_df_1['v31'].astype(int)); # This should be then used as discrete numerical varaiable"
   ]
  },
  {
   "cell_type": "markdown",
   "metadata": {},
   "source": [
    "* Variable 'v31' is a discrete variable\n",
    "* Use as,it is in the model"
   ]
  },
  {
   "cell_type": "markdown",
   "metadata": {},
   "source": [
    "#### Step 4.4 Varaiable : v81"
   ]
  },
  {
   "cell_type": "code",
   "execution_count": 244,
   "metadata": {
    "collapsed": true
   },
   "outputs": [
    {
     "data": {
      "image/png": "[encoded data removed]",
      "text/plain": [
       "<matplotlib.figure.Figure at 0x220fd5b3e10>"
      ]
     },
     "metadata": {},
     "output_type": "display_data"
    }
   ],
   "source": [
    "sns.distplot(train_df_1.v81); # More number of 0 values"
   ]
  },
  {
   "cell_type": "code",
   "execution_count": 245,
   "metadata": {
    "collapsed": true
   },
   "outputs": [
    {
     "data": {
      "image/png": "[encoded data removed]",
      "text/plain": [
       "<matplotlib.figure.Figure at 0x220ff1067b8>"
      ]
     },
     "metadata": {},
     "output_type": "display_data"
    }
   ],
   "source": [
    "make_hist('v81',25)"
   ]
  },
  {
   "cell_type": "code",
   "execution_count": 246,
   "metadata": {
    "collapsed": true
   },
   "outputs": [
    {
     "data": {
      "image/png": "[encoded data removed]",
      "text/plain": [
       "<matplotlib.figure.Figure at 0x220827049e8>"
      ]
     },
     "metadata": {},
     "output_type": "display_data"
    }
   ],
   "source": [
    "sns.countplot(train_df_1['v81'].astype(int));"
   ]
  },
  {
   "cell_type": "markdown",
   "metadata": {},
   "source": [
    "#### Step 4.5 : variable V82"
   ]
  },
  {
   "cell_type": "code",
   "execution_count": 247,
   "metadata": {
    "collapsed": true
   },
   "outputs": [
    {
     "data": {
      "image/png": "[encoded data removed]",
      "text/plain": [
       "<matplotlib.figure.Figure at 0x220ff43b588>"
      ]
     },
     "metadata": {},
     "output_type": "display_data"
    }
   ],
   "source": [
    "sns.distplot(train_df_1.v82);"
   ]
  },
  {
   "cell_type": "code",
   "execution_count": 249,
   "metadata": {
    "collapsed": true
   },
   "outputs": [
    {
     "data": {
      "image/png": "[encoded data removed]",
      "text/plain": [
       "<matplotlib.figure.Figure at 0x220824ab128>"
      ]
     },
     "metadata": {},
     "output_type": "display_data"
    }
   ],
   "source": [
    "make_hist('v82',25)"
   ]
  },
  {
   "cell_type": "code",
   "execution_count": 252,
   "metadata": {
    "collapsed": true
   },
   "outputs": [
    {
     "name": "stdout",
     "output_type": "stream",
     "text": [
      "0.0      858\n",
      "5.0      680\n",
      "25.0     296\n",
      "75.0     220\n",
      "4.0      191\n",
      "85.0     143\n",
      "165.0    113\n",
      "125.0    113\n",
      "375.0     85\n",
      "585.0     84\n",
      "665.0     83\n",
      "875.0     83\n",
      "335.0     83\n",
      "29.0      74\n",
      "415.0     71\n",
      "835.0     65\n",
      "46.0      65\n",
      "625.0     50\n",
      "54.0      49\n",
      "21.0      36\n",
      "71.0      32\n",
      "17.0      16\n",
      "96.0      16\n",
      "58.0      16\n",
      "Name: v82, dtype: int64\n"
     ]
    },
    {
     "data": {
      "image/png": "[encoded data removed]",
      "text/plain": [
       "<matplotlib.figure.Figure at 0x220fd6f0208>"
      ]
     },
     "metadata": {},
     "output_type": "display_data"
    }
   ],
   "source": [
    "sns.countplot(train_df_1['v82'].astype(int));\n",
    "print(train_df_1['v82'].value_counts())"
   ]
  },
  {
   "cell_type": "markdown",
   "metadata": {},
   "source": [
    "#### Step 4.6 : Variable v14"
   ]
  },
  {
   "cell_type": "code",
   "execution_count": 253,
   "metadata": {
    "collapsed": true
   },
   "outputs": [
    {
     "data": {
      "image/png": "[encoded data removed]",
      "text/plain": [
       "<matplotlib.figure.Figure at 0x22081a35eb8>"
      ]
     },
     "metadata": {},
     "output_type": "display_data"
    }
   ],
   "source": [
    "sns.distplot(train_df_1.v14);\n",
    "## FiX mE ---Needs Outlier analysis"
   ]
  },
  {
   "cell_type": "markdown",
   "metadata": {},
   "source": [
    "* The distribution is extremely right skewed and there are few outliers present.\n",
    "* Handle these outliers before model building"
   ]
  },
  {
   "cell_type": "code",
   "execution_count": 202,
   "metadata": {
    "collapsed": true
   },
   "outputs": [
    {
     "data": {
      "image/png": "[encoded data removed]",
      "text/plain": [
       "<matplotlib.figure.Figure at 0x220fee80f28>"
      ]
     },
     "metadata": {},
     "output_type": "display_data"
    }
   ],
   "source": [
    "make_hist('v14',30)"
   ]
  },
  {
   "cell_type": "markdown",
   "metadata": {},
   "source": [
    "#### Step 4.7 Variable v15:"
   ]
  },
  {
   "cell_type": "code",
   "execution_count": 255,
   "metadata": {
    "collapsed": true
   },
   "outputs": [
    {
     "data": {
      "text/plain": [
       "<matplotlib.axes._subplots.AxesSubplot at 0x220ff58cba8>"
      ]
     },
     "execution_count": 255,
     "metadata": {},
     "output_type": "execute_result"
    },
    {
     "data": {
      "image/png": "[encoded data removed]",
      "text/plain": [
       "<matplotlib.figure.Figure at 0x220ff29af28>"
      ]
     },
     "metadata": {},
     "output_type": "display_data"
    }
   ],
   "source": [
    "fig, (ax1, ax2) = plt.subplots(ncols=2, sharey=True,figsize=(20, 5))\n",
    "sns.distplot(train_df_1.v15, ax= ax1);\n",
    "sns.distplot(train_df_1[train_df_1['v15']!=0]['v15'], ax = ax2)"
   ]
  },
  {
   "cell_type": "markdown",
   "metadata": {},
   "source": [
    "##### More outliers or extremely right skewed"
   ]
  },
  {
   "cell_type": "markdown",
   "metadata": {},
   "source": [
    "#### Step 4.8: Variable v11"
   ]
  },
  {
   "cell_type": "code",
   "execution_count": 256,
   "metadata": {
    "collapsed": true
   },
   "outputs": [
    {
     "data": {
      "image/png": "[encoded data removed]",
      "text/plain": [
       "<matplotlib.figure.Figure at 0x220fd756748>"
      ]
     },
     "metadata": {},
     "output_type": "display_data"
    }
   ],
   "source": [
    "sns.distplot(train_df_1.v11);"
   ]
  },
  {
   "cell_type": "code",
   "execution_count": 257,
   "metadata": {
    "collapsed": true
   },
   "outputs": [
    {
     "data": {
      "image/png": "[encoded data removed]",
      "text/plain": [
       "<matplotlib.figure.Figure at 0x220fee82208>"
      ]
     },
     "metadata": {},
     "output_type": "display_data"
    }
   ],
   "source": [
    "sns.countplot(train_df_1.v11);"
   ]
  },
  {
   "cell_type": "code",
   "execution_count": 147,
   "metadata": {
    "collapsed": false
   },
   "outputs": [],
   "source": [
    "def my_count_plot(var):\n",
    "    fig, (ax1, ax2) = plt.subplots(ncols=2, sharey=True)\n",
    "    sns.countplot(x = var, data = train_df_1, color = 'c',ax = ax1);\n",
    "    sns.countplot(x = var, hue = 'classLabel',data = train_df_1,  color = 'c',ax = ax2)\n"
   ]
  },
  {
   "cell_type": "code",
   "execution_count": 149,
   "metadata": {
    "collapsed": true
   },
   "outputs": [
    {
     "data": {
      "image/png": "[encoded data removed]",
      "text/plain": [
       "<matplotlib.figure.Figure at 0x220ff199278>"
      ]
     },
     "metadata": {},
     "output_type": "display_data"
    }
   ],
   "source": [
    "my_count_plot('v4')"
   ]
  },
  {
   "cell_type": "markdown",
   "metadata": {},
   "source": [
    "* value 'u' is predominant,followed by 'y' and 'l'"
   ]
  },
  {
   "cell_type": "code",
   "execution_count": 150,
   "metadata": {
    "collapsed": true
   },
   "outputs": [
    {
     "data": {
      "image/png": "[encoded data removed]",
      "text/plain": [
       "<matplotlib.figure.Figure at 0x220fd70c588>"
      ]
     },
     "metadata": {},
     "output_type": "display_data"
    }
   ],
   "source": [
    "my_count_plot('v5')"
   ]
  },
  {
   "cell_type": "code",
   "execution_count": 151,
   "metadata": {
    "collapsed": true
   },
   "outputs": [
    {
     "data": {
      "image/png": "[encoded data removed]",
      "text/plain": [
       "<matplotlib.figure.Figure at 0x220fdbf09e8>"
      ]
     },
     "metadata": {},
     "output_type": "display_data"
    }
   ],
   "source": [
    "my_count_plot('v6')"
   ]
  },
  {
   "cell_type": "code",
   "execution_count": 152,
   "metadata": {
    "collapsed": true
   },
   "outputs": [
    {
     "data": {
      "image/png": "[encoded data removed]",
      "text/plain": [
       "<matplotlib.figure.Figure at 0x220ff133ef0>"
      ]
     },
     "metadata": {},
     "output_type": "display_data"
    }
   ],
   "source": [
    "my_count_plot('v7')"
   ]
  },
  {
   "cell_type": "code",
   "execution_count": 153,
   "metadata": {
    "collapsed": true
   },
   "outputs": [
    {
     "data": {
      "image/png": "[encoded data removed]",
      "text/plain": [
       "<matplotlib.figure.Figure at 0x220fef107b8>"
      ]
     },
     "metadata": {},
     "output_type": "display_data"
    }
   ],
   "source": [
    "my_count_plot('v9')"
   ]
  },
  {
   "cell_type": "code",
   "execution_count": 154,
   "metadata": {
    "collapsed": true
   },
   "outputs": [
    {
     "data": {
      "image/png": "[encoded data removed]",
      "text/plain": [
       "<matplotlib.figure.Figure at 0x220fef47c88>"
      ]
     },
     "metadata": {},
     "output_type": "display_data"
    }
   ],
   "source": [
    "my_count_plot('v10')"
   ]
  },
  {
   "cell_type": "code",
   "execution_count": 155,
   "metadata": {
    "collapsed": true
   },
   "outputs": [
    {
     "data": {
      "image/png": "[encoded data removed]",
      "text/plain": [
       "<matplotlib.figure.Figure at 0x220fcf016a0>"
      ]
     },
     "metadata": {},
     "output_type": "display_data"
    }
   ],
   "source": [
    "my_count_plot('v12')"
   ]
  },
  {
   "cell_type": "code",
   "execution_count": 156,
   "metadata": {
    "collapsed": true
   },
   "outputs": [
    {
     "data": {
      "image/png": "[encoded data removed]",
      "text/plain": [
       "<matplotlib.figure.Figure at 0x220fcae19b0>"
      ]
     },
     "metadata": {},
     "output_type": "display_data"
    }
   ],
   "source": [
    "my_count_plot('v13')"
   ]
  },
  {
   "cell_type": "code",
   "execution_count": 204,
   "metadata": {
    "collapsed": true
   },
   "outputs": [
    {
     "data": {
      "image/png": "[encoded data removed]",
      "text/plain": [
       "<matplotlib.figure.Figure at 0x220feebe5c0>"
      ]
     },
     "metadata": {},
     "output_type": "display_data"
    }
   ],
   "source": [
    "sns.countplot(x = 'classLabel', data = train_df_1, color = 'c');"
   ]
  },
  {
   "cell_type": "code",
   "execution_count": 287,
   "metadata": {
    "collapsed": false
   },
   "outputs": [
    {
     "data": {
      "text/plain": [
       "yes.    0.903851\n",
       "no.     0.096149\n",
       "Name: classLabel, dtype: float64"
      ]
     },
     "execution_count": 287,
     "metadata": {},
     "output_type": "execute_result"
    }
   ],
   "source": [
    "train_df_1.classLabel.value_counts(normalize =1)"
   ]
  },
  {
   "cell_type": "markdown",
   "metadata": {},
   "source": [
    "### Inferences from data Exploration:\n",
    "* Some variables are right skewed ,which needs transformation before modelling\n",
    "* Few variables have outliers , which should be treated.\n",
    "* Few variables are duplicated , for instance v14 and v17.Include only one set of variables.\n",
    "* "
   ]
  },
  {
   "cell_type": "markdown",
   "metadata": {},
   "source": [
    "### Step 5: Feature Engineering"
   ]
  },
  {
   "cell_type": "code",
   "execution_count": 9,
   "metadata": {
    "collapsed": false
   },
   "outputs": [
    {
     "name": "stdout",
     "output_type": "stream",
     "text": [
      "Index(['v11', 'v14', 'v15', 'v17', 'v19', 'classLabel', 'is_test', 'v21',\n",
      "       'v22', 'v31', 'v32', 'v81', 'v82'],\n",
      "      dtype='object')\n",
      "v11\n",
      "40.0\n",
      "v14\n",
      "740.8\n",
      "v15\n",
      "51100.0\n",
      "v17\n",
      "5200000.0\n",
      "v19\n",
      "1.0\n",
      "classLabel\n",
      "1.0\n",
      "is_test\n",
      "1.0\n",
      "v21\n",
      "69.0\n",
      "v22\n",
      "92.0\n",
      "v31\n",
      "8.0\n",
      "v32\n",
      "17978.0\n",
      "v81\n",
      "20.0\n",
      "v82\n",
      "875.0\n",
      "(3581, 22)\n"
     ]
    }
   ],
   "source": [
    "# Step 5.1 Train set: \n",
    "# get the numeric cols\n",
    "numeric_cols = train_df_1.select_dtypes(include = ['float64','int64']).columns\n",
    "print(numeric_cols)\n",
    "\n",
    "# Step 5.2:\n",
    "# remove outliers\n",
    "for col in numeric_cols:\n",
    "    print(col)\n",
    "    print(np.percentile(train_df_1[col],99.5))\n",
    "    train_df_1 = train_df_1[(train_df_1[col] <= np.percentile(train_df_1[col],99.5))]\n",
    "print(train_df_1.shape)    \n",
    "                             \n",
    "\n",
    "# Step 5.3:\n",
    "# transformation of Numeric Variables\n",
    "# v21\n",
    "train_df_1['log_v21'] = np.log(train_df_1['v21']+1)\n",
    "train_df_1['v22_flag'] = train_df_1['v22'].apply(lambda x: 1 if x < 50 else 0)\n",
    "train_df_1['log_v82'] = np.log(train_df_1['v82']+1)\n",
    "train_df_1['log_v14'] = np.log(train_df_1['v14']+1)\n",
    "train_df_1['log_v15'] = np.log(train_df_1['v15']+1)\n",
    "\n"
   ]
  },
  {
   "cell_type": "code",
   "execution_count": 407,
   "metadata": {
    "collapsed": false
   },
   "outputs": [
    {
     "data": {
      "text/plain": [
       "(3581, 27)"
      ]
     },
     "execution_count": 407,
     "metadata": {},
     "output_type": "execute_result"
    }
   ],
   "source": [
    "train_df_1.shape"
   ]
  },
  {
   "cell_type": "code",
   "execution_count": 10,
   "metadata": {
    "collapsed": false
   },
   "outputs": [
    {
     "name": "stdout",
     "output_type": "stream",
     "text": [
      "['v1', 'v4', 'v5', 'v6', 'v7', 'v9', 'v10', 'v11', 'v12', 'v13', 'v14', 'v15', 'v17', 'v19', 'classLabel', 'is_test', 'v21', 'v22', 'v31', 'v32', 'v81', 'v82', 'log_v21', 'v22_flag', 'log_v82', 'log_v14', 'log_v15']\n",
      "['v1', 'v4', 'v5', 'v6', 'v7', 'v9', 'v10', 'v11', 'v12', 'v13', 'v14', 'v15', 'v17', 'v19', 'classLabel', 'is_test', 'v21', 'v22', 'v31', 'v32', 'v81', 'v82', 'log_v21', 'v22_flag', 'log_v82', 'log_v14', 'log_v15', 'v4_l', 'v4_u', 'v4_y', 'v6_W', 'v6_aa', 'v6_c', 'v6_cc', 'v6_d', 'v6_e', 'v6_ff', 'v6_i', 'v6_j', 'v6_k', 'v6_m', 'v6_q', 'v6_r', 'v6_x', 'v7_bb', 'v7_dd', 'v7_ff', 'v7_h', 'v7_j', 'v7_n', 'v7_o', 'v7_v', 'v7_z', 'v9_f', 'v9_t', 'v10_f', 'v10_t', 'v12_f', 'v12_t', 'v13_g', 'v13_p', 'v13_s']\n"
     ]
    }
   ],
   "source": [
    "\n",
    "# Step 5.4: Feature Standardization\n",
    "cols_to_keep = []\n",
    "untrans_num_features = ['v81','v11']\n",
    "untrans_cat_features = ['v4', 'v6', 'v7', 'v9', 'v10', 'v12', 'v13'] # 'v5' excluded since v5 = v4\n",
    "trans_num_features =  ['log_v21','v22_flag', 'log_v82', 'log_v14','log_v15']\n",
    "cols_to_keep.extend(untrans_num_features)\n",
    "#cols_to_keep.extend(untrans_cat_features)\n",
    "cols_to_keep.extend(trans_num_features)\n",
    "\n",
    "train_df_1_dummy = pd.get_dummies(train_df_1[untrans_cat_features])\n",
    "dummy_columns = train_df_1_dummy.columns\n",
    "print([col for col in train_df_1.columns])\n",
    "train_df_1 = pd.concat([train_df_1,train_df_1_dummy], axis = 1)\n",
    "print([col for col in train_df_1.columns])\n",
    "\n",
    "cols_to_keep.extend(dummy_columns)\n",
    "\n",
    "train_df_2 = train_df_1[train_df_1['is_test']==0]\n",
    "test_df_2 = train_df_1[train_df_1['is_test'] == 1]\n",
    "\n",
    "train_x = train_df_2[cols_to_keep]\n",
    "train_y = train_df_2['classLabel']\n",
    "\n",
    "\n",
    "test_x = test_df_2[cols_to_keep]\n",
    "test_y = test_df_2['classLabel']\n",
    "#sc = StandardScaler()\n",
    "#sc.fit(X_train)\n",
    "#X_train_std  = sc.transform(X_train)\n",
    "#X_test_std = sc.transform(X_test)"
   ]
  },
  {
   "cell_type": "code",
   "execution_count": 382,
   "metadata": {
    "collapsed": false
   },
   "outputs": [
    {
     "data": {
      "text/plain": [
       "pandas.core.series.Series"
      ]
     },
     "execution_count": 382,
     "metadata": {},
     "output_type": "execute_result"
    }
   ],
   "source": [
    "type(test_y)"
   ]
  },
  {
   "cell_type": "markdown",
   "metadata": {},
   "source": [
    "### Step 6: Model Building"
   ]
  },
  {
   "cell_type": "code",
   "execution_count": 11,
   "metadata": {
    "collapsed": false
   },
   "outputs": [
    {
     "name": "stdout",
     "output_type": "stream",
     "text": [
      "\n",
      "Training..........\n",
      " col_0        0.0  1.0\n",
      "classLabel           \n",
      "0           3120   32\n",
      "1             83  166\n",
      "\n",
      "Testing...........\n",
      " col_0       0.0  1.0\n",
      "classLabel          \n",
      "0            84    2\n",
      "1            52   42\n"
     ]
    }
   ],
   "source": [
    "lr = LogisticRegression(C=1000.0, random_state=0)\n",
    "lr.fit(train_x, train_y)\n",
    "\n",
    "predicted_scores_train = lr.predict_proba(train_x)\n",
    "predicted_scores_test = lr.predict_proba(test_x)\n",
    "\n",
    "#print(lr.classes_)\n",
    "#print(lr.coef_)\n",
    "#print(predicted_scores_train[:5])\n",
    "#print(predicted_scores_train[:,1])\n",
    "def predict_y(predicted_scores,threshold=0.5):\n",
    "    ypred_label = predicted_scores.copy()   \n",
    "    \n",
    "    ypred_label[ypred_label > threshold] = 1\n",
    "    ypred_label[ypred_label <= threshold] = 0\n",
    "    return ypred_label\n",
    "\n",
    "## Evaluation on train set\n",
    "y_pred_train = predict_y(predicted_scores_train)\n",
    "#print('Predicted Labels Train',y_pred_train[:5])\n",
    "print(\"\\nTraining..........\\n\", pd.crosstab(train_y,y_pred_train[:,1]))\n",
    "\n",
    "## Evaluation on test set at 0.5 threshold\n",
    "y_pred_test = predict_y(predicted_scores_test)\n",
    "print(\"\\nTesting...........\\n\", pd.crosstab(test_y,y_pred_test[:,1]))\n"
   ]
  },
  {
   "cell_type": "code",
   "execution_count": 12,
   "metadata": {
    "collapsed": false
   },
   "outputs": [
    {
     "name": "stdout",
     "output_type": "stream",
     "text": [
      "Training accuracy: 0.96618641576\n",
      "Test accuracy: 0.7\n"
     ]
    }
   ],
   "source": [
    "print('Training accuracy:', lr.score(train_x, train_y))\n",
    "print('Test accuracy:', lr.score(test_x, test_y))\n"
   ]
  },
  {
   "cell_type": "markdown",
   "metadata": {},
   "source": [
    "### Step 7 : Model Evaluation \n",
    "* **Choosing a threshold of 0.5, is not an appropriate value for real-world classification problem.**\n",
    "* **Choice of threshold depends on mis-classification cost involved, and this misclassification cost varies between industries.**\n",
    "* ** Assuming the current industry as Ad-tech industry, and the data represents the features of an ad, and the class label indicating whether, the add has been clicked or not.**\n",
    "* ** I have swaped the \"yes\" and \"no\". Since the dataset has very low proportion of \"no\".Our actual positive examples are \"no\".Hence I'm encoding \"no\" as \"1\", and \"yes\" as \"0\".**\n",
    "* ** Hence \"1\" indicates \"displayed ad being clicked upon\", and \"0\" indicates \"displayed ad not being clicked\".**\n",
    "* ** Displaying a single ad invloves some cost spending, \"Ads being clicked gains some revenue\".Hence our objective would be to build a model ,that accurately predicts how many of the diaplayed ads will be clicked.**\n",
    "* ** Hence , Precision should be our decision metric. choose a threshold to maximise the precision **.\n",
    "\n",
    "\n",
    "\n",
    "\n"
   ]
  },
  {
   "cell_type": "code",
   "execution_count": 445,
   "metadata": {
    "collapsed": false
   },
   "outputs": [
    {
     "data": {
      "image/png": "[encoded data removed]",
      "text/plain": [
       "<matplotlib.figure.Figure at 0x220823cea58>"
      ]
     },
     "metadata": {},
     "output_type": "display_data"
    }
   ],
   "source": [
    "# precision, Recall, Accuracy, f1-score\n",
    "from sklearn.metrics import roc_auc_score,confusion_matrix, accuracy_score, roc_curve, auc\n",
    "from sklearn.metrics import precision_recall_curve\n",
    "from sklearn.metrics import average_precision_score\n",
    "\n",
    "fpr, tpr, threshold = roc_curve(test_y, y_pred_test[:,1])\n",
    "roc_auc = auc(fpr, tpr)\n",
    "# method I: plt\n",
    "plt.title('Receiver Operating Characteristic')\n",
    "plt.plot(fpr, tpr, 'b', label = 'AUC = %0.2f' % roc_auc)\n",
    "plt.legend(loc = 'lower right')\n",
    "plt.plot([0, 1], [0, 1],'r--')\n",
    "plt.xlim([0, 1])\n",
    "plt.ylim([0, 1])\n",
    "plt.ylabel('True Positive Rate')\n",
    "plt.xlabel('False Positive Rate')\n",
    "plt.show()"
   ]
  },
  {
   "cell_type": "code",
   "execution_count": 415,
   "metadata": {
    "collapsed": false
   },
   "outputs": [
    {
     "data": {
      "image/png": "[encoded data removed]",
      "text/plain": [
       "<matplotlib.figure.Figure at 0x22081b26358>"
      ]
     },
     "metadata": {},
     "output_type": "display_data"
    }
   ],
   "source": [
    "precision, recall, thresholds = precision_recall_curve(test_y, y_pred_test[:,1])\n",
    "average_precision = average_precision_score(test_y, y_pred_test[:,1])\n",
    "\n",
    "precision = np.delete(precision, len(precision)-1)\n",
    "recall = np.delete(recall, len(recall)-1)\n",
    "\n",
    "plt.clf()\n",
    "plt.plot(thresholds, precision, color='navy', label='Precision-Recall curve')\n",
    "plt.plot(thresholds, recall, color='red', label='Precision-Recall curve')\n",
    "plt.xlabel('threshold')\n",
    "plt.ylabel('Precision and recall values')\n",
    "plt.ylim([0.0, 1.05])\n",
    "plt.xlim([0.0, 1.0])\n",
    "plt.title('Average Precision: AUC={0:0.2f}'.format(average_precision))\n",
    "plt.legend(['precision','recall'],loc=\"lower left\")\n",
    "plt.show()"
   ]
  },
  {
   "cell_type": "markdown",
   "metadata": {},
   "source": [
    "* **Inorder to get the precision of 80% , set the theshold of 0.7**"
   ]
  },
  {
   "cell_type": "code",
   "execution_count": 446,
   "metadata": {
    "collapsed": false
   },
   "outputs": [
    {
     "name": "stdout",
     "output_type": "stream",
     "text": [
      "\n",
      "Testing at 0.7 \n",
      " col_0       0.0  1.0\n",
      "classLabel          \n",
      "0            85    1\n",
      "1            62   32\n",
      "\n",
      "Precision at threshold of 0.7:  0.97\n"
     ]
    }
   ],
   "source": [
    "y_pred_test = predict_y(predicted_scores_test,0.7)\n",
    "print(\"\\nTesting at 0.7 \\n\", pd.crosstab(test_y,y_pred_test[:,1]))\n",
    "\n",
    "print('\\nPrecision at threshold of 0.7: ', round(32/33,2))"
   ]
  },
  {
   "cell_type": "markdown",
   "metadata": {},
   "source": [
    "### Step 8: Conclusion"
   ]
  },
  {
   "cell_type": "markdown",
   "metadata": {},
   "source": [
    "* This model performs better prediction task at 0.7 threshold.\n",
    "* we were able to achieve 97% precision.\n",
    "* save the model equation inorder to be productionized as a  microservice"
   ]
  },
  {
   "cell_type": "code",
   "execution_count": 13,
   "metadata": {
    "collapsed": false
   },
   "outputs": [
    {
     "name": "stdout",
     "output_type": "stream",
     "text": [
      "[[-0.12364427 -0.44707334 -0.02880123 -0.59649044 -0.04179049 -0.10287363\n",
      "  -0.07576672 -2.88117213  1.31543071  1.70077205 -1.60257944  0.02736684\n",
      "  -1.58752721 -2.8153711  -1.71313054 -0.89126972  4.13685945  0.95225658\n",
      "   6.20145498  0.66050921 -0.41001264 -0.96044694  1.48974926 -3.3528281\n",
      "  -1.55966662  1.89723132 -0.69648821  1.558412   -4.17037303 -2.12000467\n",
      "   3.56115987  1.23003329  0.43472668  2.39340917 -2.25837854 -0.69496091\n",
      "   0.82999154  0.21300996 -0.07797933 -1.8654377   2.75859369 -0.75812536]]\n"
     ]
    }
   ],
   "source": [
    "print(lr.coef_)"
   ]
  },
  {
   "cell_type": "code",
   "execution_count": 14,
   "metadata": {
    "collapsed": false
   },
   "outputs": [
    {
     "name": "stdout",
     "output_type": "stream",
     "text": [
      "[ 0.13503063]\n"
     ]
    }
   ],
   "source": [
    "print(lr.intercept_)"
   ]
  },
  {
   "cell_type": "code",
   "execution_count": 15,
   "metadata": {
    "collapsed": false
   },
   "outputs": [
    {
     "data": {
      "text/plain": [
       "Index(['v81', 'v11', 'log_v21', 'v22_flag', 'log_v82', 'log_v14', 'log_v15',\n",
       "       'v4_l', 'v4_u', 'v4_y', 'v6_W', 'v6_aa', 'v6_c', 'v6_cc', 'v6_d',\n",
       "       'v6_e', 'v6_ff', 'v6_i', 'v6_j', 'v6_k', 'v6_m', 'v6_q', 'v6_r', 'v6_x',\n",
       "       'v7_bb', 'v7_dd', 'v7_ff', 'v7_h', 'v7_j', 'v7_n', 'v7_o', 'v7_v',\n",
       "       'v7_z', 'v9_f', 'v9_t', 'v10_f', 'v10_t', 'v12_f', 'v12_t', 'v13_g',\n",
       "       'v13_p', 'v13_s'],\n",
       "      dtype='object')"
      ]
     },
     "execution_count": 15,
     "metadata": {},
     "output_type": "execute_result"
    }
   ],
   "source": [
    "train_x.columns\n"
   ]
  },
  {
   "cell_type": "code",
   "execution_count": 19,
   "metadata": {
    "collapsed": false
   },
   "outputs": [],
   "source": [
    "pd.DataFrame({\"Varaiable\":train_x.columns.values, \"coeff\":lr.coef_[0]}).to_csv('D:/PROJECTS/pubnative/logit_equation.csv')"
   ]
  },
  {
   "cell_type": "code",
   "execution_count": null,
   "metadata": {
    "collapsed": true
   },
   "outputs": [],
   "source": []
  }
 ],
 "metadata": {
  "anaconda-cloud": {},
  "kernelspec": {
   "display_name": "Python [Root]",
   "language": "python",
   "name": "Python [Root]"
  },
  "language_info": {
   "codemirror_mode": {
    "name": "ipython",
    "version": 3
   },
   "file_extension": ".py",
   "mimetype": "text/x-python",
   "name": "python",
   "nbconvert_exporter": "python",
   "pygments_lexer": "ipython3",
   "version": "3.5.1"
  }
 },
 "nbformat": 4,
 "nbformat_minor": 0
}
